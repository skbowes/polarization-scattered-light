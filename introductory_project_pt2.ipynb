{
 "cells": [
  {
   "cell_type": "code",
   "execution_count": 1,
   "id": "d8d8f789",
   "metadata": {},
   "outputs": [],
   "source": [
    "#Project pt 2"
   ]
  },
  {
   "cell_type": "code",
   "execution_count": 2,
   "id": "d70bc110",
   "metadata": {},
   "outputs": [],
   "source": [
    "import numpy as np\n",
    "import matplotlib.pyplot as plt"
   ]
  },
  {
   "cell_type": "code",
   "execution_count": 3,
   "id": "bc9e84f6",
   "metadata": {},
   "outputs": [
    {
     "name": "stdout",
     "output_type": "stream",
     "text": [
      "the first three lines of the file are:\n",
      " numangles= 181\n",
      "   g= 5.80738D-01\n",
      "    scat. angle           m2               m1              s21              d21           phase func.      polarization  \n",
      "\n",
      "[[0.0, 7.5221, 7.5221, 7.5221, 0.0, 7.5221, 0.0], [0.0, 7.5221, 7.5221, 7.5221, 0.0, 7.5221, 0.0], [0.0, 7.5221, 7.5221, 7.5221, 0.0, 7.5221, 0.0], [0.0, 7.5221, 7.5221, 7.5221, 0.0, 7.5221, 0.0], [0.0, 7.5221, 7.5221, 7.5221, 0.0, 7.5221, 0.0], [0.0, 7.5221, 7.5221, 7.5221, 0.0, 7.5221, 0.0], [0.0, 7.5221, 7.5221, 7.5221, 0.0, 7.5221, 0.0], [0.0, 7.5221, 7.5221, 7.5221, 0.0, 7.5221, 0.0], [0.0, 7.5221, 7.5221, 7.5221, 0.0, 7.5221, 0.0], [0.0, 7.5221, 7.5221, 7.5221, 0.0, 7.5221, 0.0], [0.0, 7.5221, 7.5221, 7.5221, 0.0, 7.5221, 0.0], [0.0, 7.5221, 7.5221, 7.5221, 0.0, 7.5221, 0.0], [0.0, 7.5221, 7.5221, 7.5221, 0.0, 7.5221, 0.0], [0.0, 7.5221, 7.5221, 7.5221, 0.0, 7.5221, 0.0], [0.0, 7.5221, 7.5221, 7.5221, 0.0, 7.5221, 0.0], [0.0, 7.5221, 7.5221, 7.5221, 0.0, 7.5221, 0.0], [0.0, 7.5221, 7.5221, 7.5221, 0.0, 7.5221, 0.0], [0.0, 7.5221, 7.5221, 7.5221, 0.0, 7.5221, 0.0], [0.0, 7.5221, 7.5221, 7.5221, 0.0, 7.5221, 0.0], [0.0, 7.5221, 7.5221, 7.5221, 0.0, 7.5221, 0.0], [0.0, 7.5221, 7.5221, 7.5221, 0.0, 7.5221, 0.0], [0.0, 7.5221, 7.5221, 7.5221, 0.0, 7.5221, 0.0], [0.0, 7.5221, 7.5221, 7.5221, 0.0, 7.5221, 0.0], [0.0, 7.5221, 7.5221, 7.5221, 0.0, 7.5221, 0.0], [0.0, 7.5221, 7.5221, 7.5221, 0.0, 7.5221, 0.0], [0.0, 7.5221, 7.5221, 7.5221, 0.0, 7.5221, 0.0], [0.0, 7.5221, 7.5221, 7.5221, 0.0, 7.5221, 0.0], [0.0, 7.5221, 7.5221, 7.5221, 0.0, 7.5221, 0.0], [0.0, 7.5221, 7.5221, 7.5221, 0.0, 7.5221, 0.0], [0.0, 7.5221, 7.5221, 7.5221, 0.0, 7.5221, 0.0], [0.0, 7.5221, 7.5221, 7.5221, 0.0, 7.5221, 0.0], [0.0, 7.5221, 7.5221, 7.5221, 0.0, 7.5221, 0.0], [0.0, 7.5221, 7.5221, 7.5221, 0.0, 7.5221, 0.0], [0.0, 7.5221, 7.5221, 7.5221, 0.0, 7.5221, 0.0], [0.0, 7.5221, 7.5221, 7.5221, 0.0, 7.5221, 0.0], [0.0, 7.5221, 7.5221, 7.5221, 0.0, 7.5221, 0.0], [0.0, 7.5221, 7.5221, 7.5221, 0.0, 7.5221, 0.0], [0.0, 7.5221, 7.5221, 7.5221, 0.0, 7.5221, 0.0], [0.0, 7.5221, 7.5221, 7.5221, 0.0, 7.5221, 0.0], [0.0, 7.5221, 7.5221, 7.5221, 0.0, 7.5221, 0.0], [0.0, 7.5221, 7.5221, 7.5221, 0.0, 7.5221, 0.0], [0.0, 7.5221, 7.5221, 7.5221, 0.0, 7.5221, 0.0], [0.0, 7.5221, 7.5221, 7.5221, 0.0, 7.5221, 0.0], [0.0, 7.5221, 7.5221, 7.5221, 0.0, 7.5221, 0.0], [0.0, 7.5221, 7.5221, 7.5221, 0.0, 7.5221, 0.0], [0.0, 7.5221, 7.5221, 7.5221, 0.0, 7.5221, 0.0], [0.0, 7.5221, 7.5221, 7.5221, 0.0, 7.5221, 0.0], [0.0, 7.5221, 7.5221, 7.5221, 0.0, 7.5221, 0.0], [0.0, 7.5221, 7.5221, 7.5221, 0.0, 7.5221, 0.0], [0.0, 7.5221, 7.5221, 7.5221, 0.0, 7.5221, 0.0], [0.0, 7.5221, 7.5221, 7.5221, 0.0, 7.5221, 0.0], [0.0, 7.5221, 7.5221, 7.5221, 0.0, 7.5221, 0.0], [0.0, 7.5221, 7.5221, 7.5221, 0.0, 7.5221, 0.0], [0.0, 7.5221, 7.5221, 7.5221, 0.0, 7.5221, 0.0], [0.0, 7.5221, 7.5221, 7.5221, 0.0, 7.5221, 0.0], [0.0, 7.5221, 7.5221, 7.5221, 0.0, 7.5221, 0.0], [0.0, 7.5221, 7.5221, 7.5221, 0.0, 7.5221, 0.0], [0.0, 7.5221, 7.5221, 7.5221, 0.0, 7.5221, 0.0], [0.0, 7.5221, 7.5221, 7.5221, 0.0, 7.5221, 0.0], [0.0, 7.5221, 7.5221, 7.5221, 0.0, 7.5221, 0.0], [0.0, 7.5221, 7.5221, 7.5221, 0.0, 7.5221, 0.0], [0.0, 7.5221, 7.5221, 7.5221, 0.0, 7.5221, 0.0], [0.0, 7.5221, 7.5221, 7.5221, 0.0, 7.5221, 0.0], [0.0, 7.5221, 7.5221, 7.5221, 0.0, 7.5221, 0.0], [0.0, 7.5221, 7.5221, 7.5221, 0.0, 7.5221, 0.0], [0.0, 7.5221, 7.5221, 7.5221, 0.0, 7.5221, 0.0], [0.0, 7.5221, 7.5221, 7.5221, 0.0, 7.5221, 0.0], [0.0, 7.5221, 7.5221, 7.5221, 0.0, 7.5221, 0.0], [0.0, 7.5221, 7.5221, 7.5221, 0.0, 7.5221, 0.0], [0.0, 7.5221, 7.5221, 7.5221, 0.0, 7.5221, 0.0], [0.0, 7.5221, 7.5221, 7.5221, 0.0, 7.5221, 0.0], [0.0, 7.5221, 7.5221, 7.5221, 0.0, 7.5221, 0.0], [0.0, 7.5221, 7.5221, 7.5221, 0.0, 7.5221, 0.0], [0.0, 7.5221, 7.5221, 7.5221, 0.0, 7.5221, 0.0], [0.0, 7.5221, 7.5221, 7.5221, 0.0, 7.5221, 0.0], [0.0, 7.5221, 7.5221, 7.5221, 0.0, 7.5221, 0.0], [0.0, 7.5221, 7.5221, 7.5221, 0.0, 7.5221, 0.0], [0.0, 7.5221, 7.5221, 7.5221, 0.0, 7.5221, 0.0], [0.0, 7.5221, 7.5221, 7.5221, 0.0, 7.5221, 0.0], [0.0, 7.5221, 7.5221, 7.5221, 0.0, 7.5221, 0.0], [0.0, 7.5221, 7.5221, 7.5221, 0.0, 7.5221, 0.0], [0.0, 7.5221, 7.5221, 7.5221, 0.0, 7.5221, 0.0], [0.0, 7.5221, 7.5221, 7.5221, 0.0, 7.5221, 0.0], [0.0, 7.5221, 7.5221, 7.5221, 0.0, 7.5221, 0.0], [0.0, 7.5221, 7.5221, 7.5221, 0.0, 7.5221, 0.0], [0.0, 7.5221, 7.5221, 7.5221, 0.0, 7.5221, 0.0], [0.0, 7.5221, 7.5221, 7.5221, 0.0, 7.5221, 0.0], [0.0, 7.5221, 7.5221, 7.5221, 0.0, 7.5221, 0.0], [0.0, 7.5221, 7.5221, 7.5221, 0.0, 7.5221, 0.0], [0.0, 7.5221, 7.5221, 7.5221, 0.0, 7.5221, 0.0], [0.0, 7.5221, 7.5221, 7.5221, 0.0, 7.5221, 0.0], [0.0, 7.5221, 7.5221, 7.5221, 0.0, 7.5221, 0.0], [0.0, 7.5221, 7.5221, 7.5221, 0.0, 7.5221, 0.0], [0.0, 7.5221, 7.5221, 7.5221, 0.0, 7.5221, 0.0], [0.0, 7.5221, 7.5221, 7.5221, 0.0, 7.5221, 0.0], [0.0, 7.5221, 7.5221, 7.5221, 0.0, 7.5221, 0.0], [0.0, 7.5221, 7.5221, 7.5221, 0.0, 7.5221, 0.0], [0.0, 7.5221, 7.5221, 7.5221, 0.0, 7.5221, 0.0], [0.0, 7.5221, 7.5221, 7.5221, 0.0, 7.5221, 0.0], [0.0, 7.5221, 7.5221, 7.5221, 0.0, 7.5221, 0.0], [0.0, 7.5221, 7.5221, 7.5221, 0.0, 7.5221, 0.0], [0.0, 7.5221, 7.5221, 7.5221, 0.0, 7.5221, 0.0], [0.0, 7.5221, 7.5221, 7.5221, 0.0, 7.5221, 0.0], [0.0, 7.5221, 7.5221, 7.5221, 0.0, 7.5221, 0.0], [0.0, 7.5221, 7.5221, 7.5221, 0.0, 7.5221, 0.0], [0.0, 7.5221, 7.5221, 7.5221, 0.0, 7.5221, 0.0], [0.0, 7.5221, 7.5221, 7.5221, 0.0, 7.5221, 0.0], [0.0, 7.5221, 7.5221, 7.5221, 0.0, 7.5221, 0.0], [0.0, 7.5221, 7.5221, 7.5221, 0.0, 7.5221, 0.0], [0.0, 7.5221, 7.5221, 7.5221, 0.0, 7.5221, 0.0], [0.0, 7.5221, 7.5221, 7.5221, 0.0, 7.5221, 0.0], [0.0, 7.5221, 7.5221, 7.5221, 0.0, 7.5221, 0.0], [0.0, 7.5221, 7.5221, 7.5221, 0.0, 7.5221, 0.0], [0.0, 7.5221, 7.5221, 7.5221, 0.0, 7.5221, 0.0], [0.0, 7.5221, 7.5221, 7.5221, 0.0, 7.5221, 0.0], [0.0, 7.5221, 7.5221, 7.5221, 0.0, 7.5221, 0.0], [0.0, 7.5221, 7.5221, 7.5221, 0.0, 7.5221, 0.0], [0.0, 7.5221, 7.5221, 7.5221, 0.0, 7.5221, 0.0], [0.0, 7.5221, 7.5221, 7.5221, 0.0, 7.5221, 0.0], [0.0, 7.5221, 7.5221, 7.5221, 0.0, 7.5221, 0.0], [0.0, 7.5221, 7.5221, 7.5221, 0.0, 7.5221, 0.0], [0.0, 7.5221, 7.5221, 7.5221, 0.0, 7.5221, 0.0], [0.0, 7.5221, 7.5221, 7.5221, 0.0, 7.5221, 0.0], [0.0, 7.5221, 7.5221, 7.5221, 0.0, 7.5221, 0.0], [0.0, 7.5221, 7.5221, 7.5221, 0.0, 7.5221, 0.0], [0.0, 7.5221, 7.5221, 7.5221, 0.0, 7.5221, 0.0], [0.0, 7.5221, 7.5221, 7.5221, 0.0, 7.5221, 0.0], [0.0, 7.5221, 7.5221, 7.5221, 0.0, 7.5221, 0.0], [0.0, 7.5221, 7.5221, 7.5221, 0.0, 7.5221, 0.0], [0.0, 7.5221, 7.5221, 7.5221, 0.0, 7.5221, 0.0], [0.0, 7.5221, 7.5221, 7.5221, 0.0, 7.5221, 0.0], [0.0, 7.5221, 7.5221, 7.5221, 0.0, 7.5221, 0.0], [0.0, 7.5221, 7.5221, 7.5221, 0.0, 7.5221, 0.0], [0.0, 7.5221, 7.5221, 7.5221, 0.0, 7.5221, 0.0], [0.0, 7.5221, 7.5221, 7.5221, 0.0, 7.5221, 0.0], [0.0, 7.5221, 7.5221, 7.5221, 0.0, 7.5221, 0.0], [0.0, 7.5221, 7.5221, 7.5221, 0.0, 7.5221, 0.0], [0.0, 7.5221, 7.5221, 7.5221, 0.0, 7.5221, 0.0], [0.0, 7.5221, 7.5221, 7.5221, 0.0, 7.5221, 0.0], [0.0, 7.5221, 7.5221, 7.5221, 0.0, 7.5221, 0.0], [0.0, 7.5221, 7.5221, 7.5221, 0.0, 7.5221, 0.0], [0.0, 7.5221, 7.5221, 7.5221, 0.0, 7.5221, 0.0], [0.0, 7.5221, 7.5221, 7.5221, 0.0, 7.5221, 0.0], [0.0, 7.5221, 7.5221, 7.5221, 0.0, 7.5221, 0.0], [0.0, 7.5221, 7.5221, 7.5221, 0.0, 7.5221, 0.0], [0.0, 7.5221, 7.5221, 7.5221, 0.0, 7.5221, 0.0], [0.0, 7.5221, 7.5221, 7.5221, 0.0, 7.5221, 0.0], [0.0, 7.5221, 7.5221, 7.5221, 0.0, 7.5221, 0.0], [0.0, 7.5221, 7.5221, 7.5221, 0.0, 7.5221, 0.0], [0.0, 7.5221, 7.5221, 7.5221, 0.0, 7.5221, 0.0], [0.0, 7.5221, 7.5221, 7.5221, 0.0, 7.5221, 0.0], [0.0, 7.5221, 7.5221, 7.5221, 0.0, 7.5221, 0.0], [0.0, 7.5221, 7.5221, 7.5221, 0.0, 7.5221, 0.0], [0.0, 7.5221, 7.5221, 7.5221, 0.0, 7.5221, 0.0], [0.0, 7.5221, 7.5221, 7.5221, 0.0, 7.5221, 0.0], [0.0, 7.5221, 7.5221, 7.5221, 0.0, 7.5221, 0.0], [0.0, 7.5221, 7.5221, 7.5221, 0.0, 7.5221, 0.0], [0.0, 7.5221, 7.5221, 7.5221, 0.0, 7.5221, 0.0], [0.0, 7.5221, 7.5221, 7.5221, 0.0, 7.5221, 0.0], [0.0, 7.5221, 7.5221, 7.5221, 0.0, 7.5221, 0.0], [0.0, 7.5221, 7.5221, 7.5221, 0.0, 7.5221, 0.0], [0.0, 7.5221, 7.5221, 7.5221, 0.0, 7.5221, 0.0], [0.0, 7.5221, 7.5221, 7.5221, 0.0, 7.5221, 0.0], [0.0, 7.5221, 7.5221, 7.5221, 0.0, 7.5221, 0.0], [0.0, 7.5221, 7.5221, 7.5221, 0.0, 7.5221, 0.0], [0.0, 7.5221, 7.5221, 7.5221, 0.0, 7.5221, 0.0], [0.0, 7.5221, 7.5221, 7.5221, 0.0, 7.5221, 0.0], [0.0, 7.5221, 7.5221, 7.5221, 0.0, 7.5221, 0.0], [0.0, 7.5221, 7.5221, 7.5221, 0.0, 7.5221, 0.0], [0.0, 7.5221, 7.5221, 7.5221, 0.0, 7.5221, 0.0], [0.0, 7.5221, 7.5221, 7.5221, 0.0, 7.5221, 0.0], [0.0, 7.5221, 7.5221, 7.5221, 0.0, 7.5221, 0.0], [0.0, 7.5221, 7.5221, 7.5221, 0.0, 7.5221, 0.0], [0.0, 7.5221, 7.5221, 7.5221, 0.0, 7.5221, 0.0], [0.0, 7.5221, 7.5221, 7.5221, 0.0, 7.5221, 0.0], [0.0, 7.5221, 7.5221, 7.5221, 0.0, 7.5221, 0.0], [0.0, 7.5221, 7.5221, 7.5221, 0.0, 7.5221, 0.0], [0.0, 7.5221, 7.5221, 7.5221, 0.0, 7.5221, 0.0], [0.0, 7.5221, 7.5221, 7.5221, 0.0, 7.5221, 0.0], [0.0, 7.5221, 7.5221, 7.5221, 0.0, 7.5221, 0.0], [0.0, 7.5221, 7.5221, 7.5221, 0.0, 7.5221, 0.0]]\n"
     ]
    }
   ],
   "source": [
    "def ascii_reader(filepath):\n",
    "    \"\"\"When run in the same directory as the file, this program puts the rows of data of the file compaSilreddraine.phsd into arrays, and prints the first two lines. The new vectors can be shown by uncommenting the commented line.\"\"\"\n",
    "    vector_list = [] #sets an empty list to append row of floats to later\n",
    "    row_floats = []\n",
    "    with open(filepath, 'r') as f: #opens file for reading\n",
    "        header1 = f.readline() #reading through the header lines:\n",
    "        header2 = f.readline()\n",
    "        header3 = f.readline()\n",
    "        print(\"the first three lines of the file are:\")\n",
    "        print(header1, header2, header3)\n",
    "        for line in f:\n",
    "            python_values = line.replace('D', 'E') #converts each line to python sci. notation\n",
    "            row = python_values.split() #splits each line (string) into a list\n",
    "            try:\n",
    "                for i in range(len(row)): #going through each element in the row\n",
    "                    row_floats.append(float(row[i])) #this is changing the elements in row to be floats\n",
    "            except:\n",
    "                pass #for lines with strings, not data\n",
    "            vector_list.append(row_floats[0:7]) #appends that list to the list vector_list\n",
    "        #vectors = np.array(vector_list) #converts vector_list into an array\n",
    "        #print(vectors[:])\n",
    "        print(vector_list)\n",
    "ascii_reader('/fs/lustre/project/hp/pgmartin/Mie/compaSilreddraine.phsd')"
   ]
  },
  {
   "cell_type": "code",
   "execution_count": 4,
   "id": "9224be98",
   "metadata": {},
   "outputs": [
    {
     "ename": "AttributeError",
     "evalue": "'numpy.ndarray' object has no attribute 'append'",
     "output_type": "error",
     "traceback": [
      "\u001b[0;31m---------------------------------------------------------------------------\u001b[0m",
      "\u001b[0;31mAttributeError\u001b[0m                            Traceback (most recent call last)",
      "Input \u001b[0;32mIn [4]\u001b[0m, in \u001b[0;36m<module>\u001b[0;34m\u001b[0m\n\u001b[1;32m     14\u001b[0m         \u001b[38;5;28mprint\u001b[39m((vectors))\n\u001b[1;32m     15\u001b[0m     \u001b[38;5;66;03m#f.close()\u001b[39;00m\n\u001b[0;32m---> 16\u001b[0m \u001b[43mreading_file\u001b[49m\u001b[43m(\u001b[49m\u001b[38;5;124;43m'\u001b[39;49m\u001b[38;5;124;43m/fs/lustre/project/hp/pgmartin/Mie/compaSilreddraine.phsd\u001b[39;49m\u001b[38;5;124;43m'\u001b[39;49m\u001b[43m)\u001b[49m\n",
      "Input \u001b[0;32mIn [4]\u001b[0m, in \u001b[0;36mreading_file\u001b[0;34m(filepath)\u001b[0m\n\u001b[1;32m      7\u001b[0m \u001b[38;5;28;01mfor\u001b[39;00m line \u001b[38;5;129;01min\u001b[39;00m f:\n\u001b[1;32m      8\u001b[0m     row \u001b[38;5;241m=\u001b[39m line\u001b[38;5;241m.\u001b[39msplit() \u001b[38;5;66;03m#splits each line (string) into a list\u001b[39;00m\n\u001b[0;32m----> 9\u001b[0m     \u001b[43mvector_list\u001b[49m\u001b[38;5;241;43m.\u001b[39;49m\u001b[43mappend\u001b[49m(row[\u001b[38;5;241m0\u001b[39m:\u001b[38;5;241m8\u001b[39m])\u001b[38;5;66;03m#appends that list to the list vector_list\u001b[39;00m\n\u001b[1;32m     10\u001b[0m     vectors \u001b[38;5;241m=\u001b[39m np\u001b[38;5;241m.\u001b[39marray(vector_list)\n\u001b[1;32m     11\u001b[0m \u001b[38;5;66;03m#vectors = np.array(vector_list) #converts vector_list into an array\u001b[39;00m\n",
      "\u001b[0;31mAttributeError\u001b[0m: 'numpy.ndarray' object has no attribute 'append'"
     ]
    }
   ],
   "source": [
    "\"\"\"When run in the same directory as the file, this program puts the rows of data of the file compaSilreddraine.phsd into arrays, and prints the first two lines. The new vectors can be shown by uncommenting the commented line.\"\"\"\n",
    "#to recover rows:\n",
    "def reading_file(filepath):\n",
    "    vector_list = []\n",
    "    vector_list = np.array('d', )\n",
    "    with open(filepath, 'r') as f:\n",
    "        for line in f:\n",
    "            row = line.split() #splits each line (string) into a list\n",
    "            vector_list.append(row[0:8])#appends that list to the list vector_list\n",
    "            vectors = np.array(vector_list)\n",
    "        #vectors = np.array(vector_list) #converts vector_list into an array\n",
    "        print(\"the first two lines of the file are:\")\n",
    "        #print(vectors[0:2])\n",
    "        print((vectors))\n",
    "    #f.close()\n",
    "reading_file('/fs/lustre/project/hp/pgmartin/Mie/compaSilreddraine.phsd')\n"
   ]
  },
  {
   "cell_type": "code",
   "execution_count": null,
   "id": "c9304666",
   "metadata": {
    "scrolled": false
   },
   "outputs": [],
   "source": [
    "def version2(filepath):\n",
    "    data = np.genfromtxt(filepath, skip_header=3, dtype=float)\n",
    "    #datafile = open(filepath)\n",
    "    #header1 = data.readline()\n",
    "    #header2 = data.readline()\n",
    "    print(data)\n",
    "    datafile.close()\n",
    "    print(header1)\n",
    "    print(header2)\n",
    "    plt.plot(data[:,0],np.log(data[:,6]),'.',label='Test Plot')\n",
    "version2('compaSilreddraine.txt')\n"
   ]
  },
  {
   "cell_type": "code",
   "execution_count": null,
   "id": "627f60ed",
   "metadata": {
    "scrolled": true
   },
   "outputs": [],
   "source": [
    "def version3(filepath):\n",
    "    vector_list = []\n",
    "    with open(filepath, 'r') as f:\n",
    "        header1 = f.readline()\n",
    "        header2 = f.readline()\n",
    "        header3 = f.readline()  \n",
    "        for line in f:\n",
    "            row = map(float, line.split())\n",
    "            row_array = list(row)\n",
    "            print(row_array)\n",
    "            #row = line.split() #splits each line (string) into a list\n",
    "            #vector_list.append(row_array[0:8]) #appends that list to the list vector_list\n",
    "            #vectors = np.array(vector_list) #converts vector_list into an array\n",
    "    #print(\"the first two lines of the file are:\")\n",
    "    #print(vector_list[0:2])\n",
    "    #print(vectors)\n",
    "    f.close()\n",
    "version3('/fs/lustre/project/hp/pgmartin/Mie/compaSilreddraine.phsd')\n"
   ]
  },
  {
   "cell_type": "code",
   "execution_count": null,
   "id": "b8ca9fe2",
   "metadata": {},
   "outputs": [],
   "source": [
    "def version4(filepath, rows_columns):\n",
    "    vector_list = []\n",
    "    with open(filepath, 'r') as f:\n",
    "        header1 = f.readline()\n",
    "        header2 = f.readline()\n",
    "        header3 = f.readline()\n",
    "        print(header1)\n",
    "        print(header2)\n",
    "        print(header3)\n",
    "        for line in f: #goes through each line \n",
    "            line = line.strip() #gets rid of the \\n character\n",
    "            python_values = line.replace('D', 'E')\n",
    "            columns = python_values.split() #splits on all whitespace\n",
    "            column_list = []\n",
    "            for i in range(len(columns)):\n",
    "                print(columns[0])\n",
    "                #print(columns[1])\n",
    "                #print(column_list.append(columns))\n",
    "            #new_column = column_list.append(columns[]) #appends that list to the list vector_list\n",
    "            #print(new_column)\n",
    "            #column_array = np.array(column_list)\n",
    "            \n",
    "            #if rows_columns == True:\n",
    "             #   for i in range(len(columns)):\n",
    "            \n",
    "\n",
    "version4('/fs/lustre/project/hp/pgmartin/Mie/compaSilreddraine.phsd', True)\n"
   ]
  },
  {
   "cell_type": "code",
   "execution_count": null,
   "id": "94fdd4eb",
   "metadata": {
    "scrolled": true
   },
   "outputs": [],
   "source": [
    "from astropy.io import ascii\n",
    "def reading_ascii(filepath):\n",
    "    #reading the headers\n",
    "    f = open(filepath, 'r')\n",
    "    for i in range(0,3):\n",
    "        print(f.readline())\n",
    "    f.close()\n",
    "    \n",
    "    #now reading the actual table\n",
    "    data = ascii.read(filepath, header_start=3) \n",
    "    print(data)\n",
    "    #data.add_index(['scat. angle', 'm2', 'm1', 's21', 'd21', 'phase_func', 'polarization'])\n",
    "    #print(data.indices['theta', 'm2'])\n",
    "    #print(data.loc[2])\n",
    "    #data.close()\n",
    "    #read in lines as rows using split, then array, then transpose\n",
    "    #or change to .csv file\n",
    "reading_ascii('/fs/lustre/project/hp/pgmartin/Mie/compaSilreddraine.phsd')"
   ]
  },
  {
   "cell_type": "code",
   "execution_count": null,
   "id": "6077072c",
   "metadata": {
    "scrolled": false
   },
   "outputs": [],
   "source": [
    "def ascii_txt_reader(filepath, data_start):    \n",
    "    with open(filepath, \"r\") as file:\n",
    "        lines = file.readlines()\n",
    "        line_useful = lines[data_start:]\n",
    "\n",
    "        whole_data = []\n",
    "        for line in line_useful: #for each line of data \n",
    "            python_values = line.replace('D', 'E') #converts each line to python sci. notation\n",
    "            stripped_values = python_values.strip()\n",
    "            row = stripped_values.split() #creates rows by splitting into lines\n",
    "            whole_data.append(row) #appending each line to an array\n",
    "\n",
    "        cols_str = np.transpose(np.array(whole_data)) #transposes array from rows to columns\n",
    "        cols = cols_str.astype(float) #takes the columns and converts all the values from strings to floats\n",
    "        print(cols)\n",
    "\n",
    "ascii_txt_reader(\"compaSilreddraine.txt\",3) \n"
   ]
  },
  {
   "cell_type": "code",
   "execution_count": null,
   "id": "a60efcbb",
   "metadata": {},
   "outputs": [],
   "source": [
    "theta = np.linspace(0,np.pi,181)\n",
    "plt.plot(cols[0,:],theta,label='trial')\n",
    "plt.xlabel('theta')\n",
    "plt.ylabel('theta')\n",
    "plt.title(\"theta vs. theta\")"
   ]
  },
  {
   "cell_type": "code",
   "execution_count": null,
   "id": "cc80372d",
   "metadata": {},
   "outputs": [],
   "source": [
    "a = np.zeros((5,4))\n",
    "b = np.arange(4)\n",
    "b[2] = 10\n",
    "print(b)\n",
    "a[0,:] = b\n",
    "print(a)"
   ]
  },
  {
   "cell_type": "code",
   "execution_count": null,
   "id": "434b5d91",
   "metadata": {},
   "outputs": [],
   "source": [
    "data = np.genfromtxt(compaSilreddraine.txt)"
   ]
  },
  {
   "cell_type": "code",
   "execution_count": null,
   "id": "a7bec710",
   "metadata": {},
   "outputs": [],
   "source": [
    "def ortho_to_scat_plane(l_1,b_1,l_2,b_2):\n",
    "    \"\"\"Takes the coordinates of incoming and outgoing light vectors and returns\n",
    "    a vector orthogonal to their scattering plane.\"\"\"\n",
    "    #degree conversions\n",
    "    phi1 = (l_1 + 180) * np.pi/180. #to make it like forward scattering\n",
    "    phi2 = (l_2 + 180) * np.pi/180. #to put it in perspective of the dust\n",
    "    theta1 = b_1 * np.pi/180.\n",
    "    theta2 = b_2 * np.pi/180.\n",
    "    #coordinate conversions, where theta is inclination/azimuthal, phi is around equator\n",
    "    x1 = np.cos(theta1) * np.sin(phi1)\n",
    "    x2 = np.cos(theta2) * np.sin(phi2)\n",
    "    y1 = np.cos(theta1) * np.cos(phi1)\n",
    "    y2 = np.cos(theta2) * np.cos(phi2)\n",
    "    z1 = np.sin(theta1)\n",
    "    z2 = np.sin(theta2)\n",
    "    #computing vector orthogonal to scattering plane\n",
    "    ortho_theta = -(x1*z2 - x2*z1) * 180/np.pi\n",
    "    ortho_phi = (x1*y2 - y1*x2)  * 180/np.pi\n",
    "    if abs(ortho_theta) < 1e-10:\n",
    "        ortho_theta = 0\n",
    "    if abs(ortho_phi) < 1e-10:\n",
    "        ortho_phi = 0\n",
    "    return ortho_theta, ortho_phi "
   ]
  }
 ],
 "metadata": {
  "kernelspec": {
   "display_name": "Python 3 (ipykernel)",
   "language": "python",
   "name": "python3"
  },
  "language_info": {
   "codemirror_mode": {
    "name": "ipython",
    "version": 3
   },
   "file_extension": ".py",
   "mimetype": "text/x-python",
   "name": "python",
   "nbconvert_exporter": "python",
   "pygments_lexer": "ipython3",
   "version": "3.10.2"
  }
 },
 "nbformat": 4,
 "nbformat_minor": 5
}
