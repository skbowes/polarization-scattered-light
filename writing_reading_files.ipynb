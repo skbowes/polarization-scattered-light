{
 "cells": [
  {
   "cell_type": "code",
   "execution_count": 1,
   "id": "62f2c978",
   "metadata": {},
   "outputs": [],
   "source": [
    "import matplotlib.pyplot as plt\n",
    "import numpy as np\n",
    "import healpy as hp\n",
    "import math\n",
    "import scipy as sp\n",
    "from scipy.interpolate import interp1d, splrep, UnivariateSpline\n",
    "from astropy.io import fits\n",
    "from tqdm import tqdm"
   ]
  },
  {
   "cell_type": "code",
   "execution_count": 3,
   "id": "228e724a",
   "metadata": {},
   "outputs": [],
   "source": [
    "\"\"\"This function reads a very specific format of .txt file, where the first three lines \n",
    "contain information but no data. The data is then contained in 7 columns, 181 rows.\"\"\"\n",
    "def ascii_txt_reader(filepath, data_start, header_check):    \n",
    "    with open(filepath, \"r\") as file:\n",
    "        lines = file.readlines()\n",
    "        if header_check == True:\n",
    "            print(lines[0], lines[1], lines[2])\n",
    "        line_useful = lines[data_start:]\n",
    "\n",
    "        whole_data = []\n",
    "        for line in line_useful: #for each line of data \n",
    "            python_values = line.replace('D', 'E') #converts each line to python sci. notation\n",
    "            stripped_values = python_values.strip()\n",
    "            row = stripped_values.split() #creates rows by splitting into lines\n",
    "            whole_data.append(row) #appending each line to an array\n",
    "        #to extract rows, don't transpose in the following line:\n",
    "        cols_str = np.transpose(np.array(whole_data)) #transposes array from rows to columns\n",
    "        cols = cols_str.astype(float) #takes the columns and converts all the values from strings to floats\n",
    "        return cols"
   ]
  },
  {
   "cell_type": "code",
   "execution_count": 3,
   "id": "3e67bd2a",
   "metadata": {},
   "outputs": [],
   "source": [
    "def write_to_file(sil_file, car_file, w1, w2, new_txt_file, Q, phase_fxn, angle_array):\n",
    "    sil_cols = ascii_txt_reader(sil_file,3, False)\n",
    "    car_cols = ascii_txt_reader(car_file,3, False)\n",
    "\n",
    "    if Q == True:\n",
    "        Q_phase_fxn_sil = (sil_cols[1] - sil_cols[2]) * 0.5\n",
    "        Q_phase_fxn_car = (car_cols[1] - car_cols[2]) * 0.5\n",
    "        f1 = Q_phase_fxn_sil\n",
    "        f2 = Q_phase_fxn_car\n",
    "        weighted_Q = (w1*f1 + w2*f2)/(w1+w2)\n",
    "        f = open(new_txt_file, \"w\")\n",
    "        for value in weighted_Q:\n",
    "            f.write(str(value))\n",
    "            f.write(\"\\n\")\n",
    "        f.close()\n",
    "        return new_txt_file\n",
    "    if phase_fxn == True:\n",
    "        phase_fxn_sil = sil_cols[5]\n",
    "        phase_fxn_car = car_cols[5]\n",
    "        f1 = phase_fxn_sil\n",
    "        f2 = phase_fxn_car\n",
    "        weighted_phase_fxn = (w1*f1 + w2*f2)/(w1+w2)\n",
    "        f = open(new_txt_file, \"w\")\n",
    "        for value in weighted_phase_fxn:\n",
    "            f.write(str(value)) #if i didn't have string here would it write as a float\n",
    "            f.write(\"\\n\")\n",
    "        f.close()\n",
    "        return new_txt_file\n",
    "    if angle_array == True:\n",
    "        f = open(new_txt_file, \"w\")\n",
    "        for value in sil_cols[0]:\n",
    "            f.write(str(value)) #if i didn't have string here would it write as a float\n",
    "            f.write(\"\\n\")\n",
    "        f.close()\n",
    "        return new_txt_file\n"
   ]
  },
  {
   "cell_type": "code",
   "execution_count": 14,
   "id": "f87cbc19",
   "metadata": {},
   "outputs": [],
   "source": [
    "def write_rayleigh():\n",
    "    sil_cols = ascii_txt_reader(\"compaSilreddraine.txt\",3, False)\n",
    "    f = open('rayleigh_phase.txt', \"w\")\n",
    "    phase_fxn = 3*((((np.cos(sil_cols[0]*np.pi/180.))**2)+1))/4\n",
    "    #print(np.shape(phase_fxn))\n",
    "    for value in phase_fxn:\n",
    "        f.write(str(value)) #\n",
    "        f.write(\"\\n\")\n",
    "    f.close()\n",
    "    f = open('rayleigh_pol.txt', \"w\")\n",
    "    phase_fxn = 3*(((np.cos(sil_cols[0]*np.pi/180.))**2) - 1)/4\n",
    "    #print(np.shape(phase_fxn))\n",
    "    for value in phase_fxn:\n",
    "        f.write(str(value)) \n",
    "        f.write(\"\\n\")\n",
    "    f.close()"
   ]
  },
  {
   "cell_type": "code",
   "execution_count": 15,
   "id": "4dbd1301",
   "metadata": {},
   "outputs": [],
   "source": [
    "def write_rayleigh_g():\n",
    "    sil_cols = ascii_txt_reader(\"compaSilgreendraine.txt\",3, False)\n",
    "    f = open('rayleigh_phase_g.txt', \"w\")\n",
    "    phase_fxn = 3*((((np.cos(sil_cols[0]*np.pi/180.))**2)+1))/4\n",
    "    #print(np.shape(phase_fxn))\n",
    "    for value in phase_fxn:\n",
    "        f.write(str(value)) #\n",
    "        f.write(\"\\n\")\n",
    "    f.close()\n",
    "    f = open('rayleigh_pol_g.txt', \"w\")\n",
    "    phase_fxn = 3*(((np.cos(sil_cols[0]*np.pi/180.))**2) - 1)/4\n",
    "    #print(np.shape(phase_fxn))\n",
    "    for value in phase_fxn:\n",
    "        f.write(str(value)) \n",
    "        f.write(\"\\n\")\n",
    "    f.close()"
   ]
  },
  {
   "cell_type": "code",
   "execution_count": 16,
   "id": "1636dd07",
   "metadata": {},
   "outputs": [],
   "source": [
    "write_rayleigh_g()\n"
   ]
  },
  {
   "cell_type": "code",
   "execution_count": 17,
   "id": "fb4b2323",
   "metadata": {},
   "outputs": [],
   "source": [
    "write_rayleigh()"
   ]
  },
  {
   "cell_type": "raw",
   "id": "b86ac224",
   "metadata": {},
   "source": [
    "write_rayleigh()"
   ]
  },
  {
   "cell_type": "code",
   "execution_count": 8,
   "id": "0f445cc3",
   "metadata": {},
   "outputs": [
    {
     "data": {
      "text/plain": [
       "'weighted_phase_fxn_5.txt'"
      ]
     },
     "execution_count": 8,
     "metadata": {},
     "output_type": "execute_result"
    }
   ],
   "source": [
    "write_to_file(\"compaSilreddraine.txt\", 'compLamCredzubko.txt', 133.197, 43.7558, \"weighted_Q_0.txt\", True, False, False)\n",
    "write_to_file(\"compaSilreddraine.txt\", 'compLamCredzubko.txt', 133.197, 43.7558, \"weighted_phase_fxn_0.txt\", False, True, False)\n",
    "write_to_file(\"compaSilreddraine.txt\", 'compLamCredzubko.txt', 133.197, 43.7558, \"angle_array.txt\", False, False, True)\n",
    "\n",
    "write_to_file(\"compaSilgreendraine.txt\", 'compLamCgreenzubko.txt', 174.598, 47.5795, \"weighted_Q_1.txt\", True, False, False)\n",
    "write_to_file(\"compaSilgreendraine.txt\", 'compLamCgreenzubko.txt', 174.598, 47.5795, \"weighted_phase_fxn_1.txt\", False, True, False)\n",
    "\n",
    "write_to_file(\"wdaSil31reddraine.txt\", 'wdGra31redzubko.txt', 2137.96, 708.008, \"weighted_Q_2.txt\", True, False, False)\n",
    "write_to_file(\"wdaSil31reddraine.txt\", 'wdGra31redzubko.txt', 2137.96, 708.008, \"weighted_phase_fxn_2.txt\", False, True, False)\n",
    "\n",
    "write_to_file(\"wdaSil31greendraine.txt\", 'wdGra31greenzubko.txt', 3254.56, 780.729, \"weighted_Q_3.txt\", True, False, False)\n",
    "write_to_file(\"wdaSil31greendraine.txt\", 'wdGra31greenzubko.txt', 3254.56, 780.729, \"weighted_phase_fxn_3.txt\", False, True, False)\n",
    "\n",
    "write_to_file(\"wdaSil55reddraine.txt\", 'wdGra55redzubko.txt', 2863.63, 451.709, \"weighted_Q_4.txt\", True, False, False)\n",
    "write_to_file(\"wdaSil55reddraine.txt\", 'wdGra55redzubko.txt', 2863.63, 451.709, \"weighted_phase_fxn_4.txt\", False, True, False)\n",
    "\n",
    "write_to_file(\"wdaSil55greendraine.txt\", 'wdGra55greenzubko.txt', 3645.40, 492.108, \"weighted_Q_5.txt\", True, False, False)\n",
    "write_to_file(\"wdaSil55greendraine.txt\", 'wdGra55greenzubko.txt', 3645.40, 492.108, \"weighted_phase_fxn_5.txt\", False, True, False)\n",
    "\n",
    "#/fs/lustre/project/hp/pgmartin/Mie\n",
    "#write_to_file(\"rayleigh.txt\", False, False, False, True)\n",
    "#write_rayleigh()"
   ]
  },
  {
   "cell_type": "code",
   "execution_count": 2,
   "id": "dc74fee9",
   "metadata": {},
   "outputs": [],
   "source": [
    "def weightg(g1,g2,w1,w2):\n",
    "    weighted_g = (w1*g1 + w2*g2)/(w1+w2)\n",
    "    print(weighted_g)"
   ]
  },
  {
   "cell_type": "code",
   "execution_count": 6,
   "id": "e5c811af",
   "metadata": {},
   "outputs": [
    {
     "name": "stdout",
     "output_type": "stream",
     "text": [
      "0.6463344522406759\n",
      "0.6575983685646803\n"
     ]
    }
   ],
   "source": [
    "#DUSTEM red then green\n",
    "#g:\n",
    "# weightg(0.5807,0.4375,133.197, 43.7558)\n",
    "# weightg(0.5854,0.5090,174.598, 47.5795)\n",
    "\n",
    "# weightg(1.24,0.02998,133.197, 43.7558)\n",
    "# weightg(1.183,0.0297,174.598, 47.5795)\n",
    "\n",
    "ext1 = 155.121\n",
    "sca1 = 133.197\n",
    "Abs1 = 21.9236\n",
    "ext2 = 118.658\n",
    "sca2 = 43.7558\n",
    "Abs2 = 74.9021\n",
    "\n",
    "alb = (sca1+sca2)/(ext1+ext2)\n",
    "alb2 = (sca1+sca2)/(sca1+sca2+Abs1+Abs2)\n",
    "print(alb)\n",
    "ext1 = 204.554\n",
    "sca1 = 174.598\n",
    "\n",
    "ext2 = 133.308\n",
    "sca2 = 47.5795\n",
    "\n",
    "\n",
    "alb = (sca1+sca2)/(ext1+ext2)\n",
    "alb2 = (sca1+sca2)/(sca1+sca2+Abs1+Abs2)\n",
    "print(alb)"
   ]
  },
  {
   "cell_type": "code",
   "execution_count": 10,
   "id": "ca13401c",
   "metadata": {},
   "outputs": [
    {
     "name": "stdout",
     "output_type": "stream",
     "text": [
      "0.6412249652459371\n",
      "0.6743475507144898\n"
     ]
    }
   ],
   "source": [
    "#WD3.1 r then g\n",
    "#g:\n",
    "# weightg(0.5559, 0.4504, 2137.96, 708.008)\n",
    "# weightg(0.5922, 0.5080, 3254.56, 780.729)\n",
    "#albedo\n",
    "# weightg(0.867116, 0.358898, 2137.96, 708.008)\n",
    "# weightg(0.875130, 0.344685, 3254.56, 780.729)\n",
    "\n",
    "# weightg(1.24,0.02998,133.197, 43.7558)\n",
    "# weightg(1.183,0.0297,174.598, 47.5795)\n",
    "\n",
    "sca1 = 2137.96\n",
    "sca2 = 708.008\n",
    "ext1 = 2465.60\n",
    "ext2 = 1972.73\n",
    "alb = (sca1+sca2)/(ext1+ext2)\n",
    "print(alb)\n",
    "\n",
    "sca1 = 3254.56\n",
    "sca2 = 780.729\n",
    "ext1 = 3718.94\n",
    "ext2 = 2265.05\n",
    "alb = (sca1+sca2)/(ext1+ext2)\n",
    "print(alb)"
   ]
  },
  {
   "cell_type": "code",
   "execution_count": 14,
   "id": "7d5e5877",
   "metadata": {},
   "outputs": [
    {
     "name": "stdout",
     "output_type": "stream",
     "text": [
      "0.5945034053108897\n",
      "0.6191144949085295\n",
      "0.7476594900198228\n",
      "0.7500132328362862\n"
     ]
    }
   ],
   "source": [
    "#WD5.5 r then g\n",
    "#g:\n",
    "weightg(0.610595, 0.49249, 2863.63, 451.709)\n",
    "weightg(0.6297, 0.5407, 3645.40, 492.108)\n",
    "#albedo:\n",
    "# weightg(0.890591, 0.370600, 2863.63, 451.709)\n",
    "# weightg(0.883528, 0.353876, 3645.40, 492.108)\n",
    "# weightg(1.24,0.02998,133.197, 43.7558)\n",
    "# weightg(1.183,0.0297,174.598, 47.5795)\n",
    "\n",
    "sca1 = 2863.63\n",
    "sca2 = 451.709\n",
    "ext1 = 3215.43\n",
    "ext2 = 1218.86\n",
    "alb = (sca1+sca2)/(ext1+ext2)\n",
    "print(alb)\n",
    "\n",
    "sca1 = 3645.40\n",
    "sca2 = 492.108\n",
    "ext1 = 4125.96\n",
    "ext2 = 1390.62\n",
    "alb = (sca1+sca2)/(ext1+ext2)\n",
    "print(alb)"
   ]
  },
  {
   "cell_type": "code",
   "execution_count": null,
   "id": "f3e539ed",
   "metadata": {},
   "outputs": [],
   "source": [
    "#astrodust r then g\n",
    "g = 0.606206, albedo = 0.759765, sca = 2351.05\n",
    "g = 0.634559, albedo = 0.750455, sca = 2877.09\n",
    "\n",
    "#second file ad\n",
    "g = 0.64629, albedo = 0.771742, sca = 1894.7\n",
    "g = 0.68211, albedo = 0.773809, sca = 2513.06"
   ]
  }
 ],
 "metadata": {
  "kernelspec": {
   "display_name": "Python 3 (ipykernel)",
   "language": "python",
   "name": "python3"
  },
  "language_info": {
   "codemirror_mode": {
    "name": "ipython",
    "version": 3
   },
   "file_extension": ".py",
   "mimetype": "text/x-python",
   "name": "python",
   "nbconvert_exporter": "python",
   "pygments_lexer": "ipython3",
   "version": "3.10.2"
  }
 },
 "nbformat": 4,
 "nbformat_minor": 5
}
